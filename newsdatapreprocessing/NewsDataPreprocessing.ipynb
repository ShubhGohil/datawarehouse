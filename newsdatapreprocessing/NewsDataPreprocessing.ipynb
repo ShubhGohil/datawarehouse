{
  "nbformat": 4,
  "nbformat_minor": 0,
  "metadata": {
    "colab": {
      "provenance": []
    },
    "kernelspec": {
      "name": "python3",
      "display_name": "Python 3"
    },
    "language_info": {
      "name": "python"
    }
  },
  "cells": [
    {
      "cell_type": "code",
      "execution_count": null,
      "metadata": {
        "id": "fCfMZSgg-LPY"
      },
      "outputs": [],
      "source": [
        "!pip install langchain langchain-community langchain-groq langchain-ollama"
      ]
    },
    {
      "cell_type": "code",
      "source": [
        "import pandas as pd\n",
        "import os\n",
        "import numpy as np\n",
        "from datetime import datetime"
      ],
      "metadata": {
        "id": "cBtAaBSZ-itV"
      },
      "execution_count": null,
      "outputs": []
    },
    {
      "cell_type": "code",
      "source": [],
      "metadata": {
        "id": "GC3uWQEo-mmz"
      },
      "execution_count": null,
      "outputs": []
    },
    {
      "cell_type": "markdown",
      "source": [
        "\n",
        "try:\n",
        "    pandas_df1 = pd.read_json(\"market_news_full_content_20250717_221416.json\")\n",
        "    pandas_df2 = pd.read_json(\"stock_data_Complete.json\")\n",
        "\n",
        "    pandas_df1 = pandas_df1.rename(columns={\"url\": \"sourceUrl\", \"full_content\": \"article\"})\n",
        "    pandas_df1['sentiment'] = np.nan\n",
        "    pandas_df1['tickerSymbol'] = np.nan\n",
        "    pandas_df1['companyName'] = np.nan\n",
        "\n",
        "    for index, row in pandas_df1.iterrows():\n",
        "      date_string = row['publishedAt']\n",
        "      if date_string.endswith('Z'):\n",
        "          date_string = date_string[:-1] # Remove 'Z' for broader compatibility\n",
        "\n",
        "      dt_object = datetime.fromisoformat(date_string)\n",
        "\n",
        "      # Format the datetime object back into a string with only the date\n",
        "      pandas_df1.at[index, \"publishedAt\"] = dt_object.strftime('%Y-%m-%d')\n",
        "\n",
        "    print(pandas_df1.shape)\n",
        "    print(pandas_df2.shape)\n",
        "\n",
        "    pandas_df2 = pandas_df2.rename(columns={\"links\": \"sourceUrl\", \"Text\": \"article\", \"symbol\": \"tickerSymbol\", \"company\": \"companyName\", \"Publishdate\": \"publishedAt\"})\n",
        "    pandas_df2['sentiment'] = np.nan\n",
        "\n",
        "    # display(pandas_df1.head())\n",
        "    # display(pandas_df2.head())\n",
        "\n",
        "    combined_pandas_df = pd.concat([pandas_df1, pandas_df2], sort=False)\n",
        "    # display(combined_pandas_df.head())\n",
        "\n",
        "    final_df = combined_pandas_df[[\"sourceUrl\", \"article\", \"tickerSymbol\", \"companyName\", \"publishedAt\", \"sentiment\"]]\n",
        "    # common_pandas_df = combined_pandas_df[]\n",
        "    display(final_df.head())\n",
        "    # display(pandas_df[\"full_content\"])\n",
        "    final_df.reset_index(drop=True, inplace=True)\n",
        "\n",
        "except ValueError as e:\n",
        "    print(f\"Could not read with pd.read_json, might be line-delimited. Error: {e}\")\n",
        "    # If the above fails, it might be a line-delimited JSON\n",
        "    # where each line is a separate JSON object.\n",
        "    # print(\"Trying to read as a line-delimited JSON file...\")\n",
        "    # pandas_df_lines = pd.read_json(local_file_path, lines=True)\n",
        "    # display(pandas_df_lines[\"full_content\"])"
      ],
      "metadata": {
        "id": "YhM-plZl-o8p"
      }
    },
    {
      "cell_type": "code",
      "source": [
        "final_df.to_csv(\"final_df.csv\", index=False)\n",
        "\n",
        "# print(pandas_df.shape)\n",
        "# print(pandas_df.columns)\n",
        "# print(pandas_df.head())\n",
        "print(display(final_df.tail()))\n",
        "print(final_df.shape)"
      ],
      "metadata": {
        "id": "-ITTDxDIAE3T"
      },
      "execution_count": null,
      "outputs": []
    }
  ]
}