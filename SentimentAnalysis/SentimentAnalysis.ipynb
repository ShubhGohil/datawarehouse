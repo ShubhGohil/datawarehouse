{
  "nbformat": 4,
  "nbformat_minor": 0,
  "metadata": {
    "colab": {
      "provenance": []
    },
    "kernelspec": {
      "name": "python3",
      "display_name": "Python 3"
    },
    "language_info": {
      "name": "python"
    }
  },
  "cells": [
    {
      "cell_type": "code",
      "execution_count": null,
      "metadata": {
        "id": "OyFqqZnFBNWs"
      },
      "outputs": [],
      "source": [
        "!pip install langchain langchain-community langchain-groq langchain-ollama"
      ]
    },
    {
      "cell_type": "code",
      "source": [
        "from langchain.prompts import PromptTemplate\n",
        "from langchain_groq import ChatGroq\n",
        "from langchain.chains import LLMChain\n",
        "from langchain_ollama.llms import OllamaLLM\n",
        "\n",
        "import pandas as pd\n",
        "import json\n",
        "import os\n",
        "import numpy as np\n",
        "import subprocess\n",
        "from datetime import datetime"
      ],
      "metadata": {
        "id": "r6ISQkOnBQJz"
      },
      "execution_count": null,
      "outputs": []
    },
    {
      "cell_type": "code",
      "source": [
        "# set GROQ_API_KEY key"
      ],
      "metadata": {
        "id": "A6uCcu8FBZyw"
      },
      "execution_count": null,
      "outputs": []
    },
    {
      "cell_type": "code",
      "source": [
        "final_df = pd.read_csv(\"news.csv\") # this is the file obtained as a result of newsdatapreprocessing"
      ],
      "metadata": {
        "id": "t3S2yMaMBswR"
      },
      "execution_count": null,
      "outputs": []
    },
    {
      "cell_type": "code",
      "source": [
        "def get_chain():\n",
        "\n",
        "  llm = OllamaLLM(model=\"llama3.1\")\n",
        "  # llm = ChatGroq(model=\"llama3-8b-8192\")\n",
        "\n",
        "  template = \"\"\"\n",
        "  You are a helpful assistant specialized in keywords extraction and sentiment detection from a news article. Answer the following question:\n",
        "\n",
        "  Article: {article}\n",
        "\n",
        "  Question: {question}\n",
        "\n",
        "  Answer:\n",
        "  \"\"\"\n",
        "\n",
        "  prompt = PromptTemplate(\n",
        "      input_variables=[\"question\", \"article\"],\n",
        "      template=template,\n",
        "  )\n",
        "\n",
        "  chain = prompt | llm\n",
        "  return chain"
      ],
      "metadata": {
        "id": "NOitjj2_BctJ"
      },
      "execution_count": null,
      "outputs": []
    },
    {
      "cell_type": "code",
      "source": [
        "def get_sentiment(chain, article):\n",
        "\n",
        "  question = \"\"\"\n",
        "  1. What is the sentiment about the companies mentioned this article? Mention the sentiment only.\n",
        "  2. Which company/companies were affectes by this news article? Mention the company names only. If no company is mentioned, return \"None\".\n",
        "  3. Write ticker symbols for the companies mentioned in the article. If no company is mentioned, return \"None\".\n",
        "\n",
        "  Answer should strictly be in the format:\n",
        "  1. Sentiment: Sentiment\n",
        "  2. Companies: Company1, Company2, ...\n",
        "  3. TickerSymbols: TickerSymbol1, TickerSymbol2, ...\n",
        "\n",
        "  Do not include any other text.\n",
        "  \"\"\"\n",
        "\n",
        "  input_data = {\n",
        "    'article': article,\n",
        "    'question': question,\n",
        "  }\n",
        "  r = chain.invoke(input = input_data)\n",
        "  print(r)\n",
        "  return r"
      ],
      "metadata": {
        "id": "Zgoy_YOBBiHv"
      },
      "execution_count": null,
      "outputs": []
    },
    {
      "cell_type": "code",
      "source": [
        "chain = get_chain()\n",
        "for index, row in final_df.iterrows():\n",
        "    if(not pd.isna(final_df.at[index, 'sentiment'])):\n",
        "      continue\n",
        "    article = row['article']\n",
        "    response = get_sentiment(chain, article)\n",
        "    lines = response.strip().split('\\n')\n",
        "    sentiment = lines[0].strip().split(':')[1].strip()\n",
        "    if sentiment == \"Positive\":\n",
        "      sentiment = 1\n",
        "    elif sentiment == \"Negative\":\n",
        "      sentiment = -1\n",
        "    else:\n",
        "      sentiment = 0\n",
        "    final_df.at[index, 'sentiment'] = sentiment\n",
        "\n",
        "    print(index)\n",
        "\n",
        "    if(pd.isna(final_df.at[index, 'tickerSymbol'])):\n",
        "      try:\n",
        "        tickerSymbol = lines[1].strip().split(':')[1].strip()\n",
        "        final_df.at[index, 'tickerSymbol'] = tickerSymbol\n",
        "      except:\n",
        "        final_df.at[index, 'tickerSymbol'] = \"None\"\n",
        "\n",
        "    if(pd.isna(final_df.at[index, 'companyName'])):\n",
        "      try:\n",
        "        companies = lines[2].strip().split(':')[1].strip()\n",
        "        final_df.at[index, 'companyName'] = companies\n",
        "      except:\n",
        "        final_df.at[index, 'companyName'] = \"None\""
      ],
      "metadata": {
        "id": "PYsJWFBqBmiy"
      },
      "execution_count": null,
      "outputs": []
    },
    {
      "cell_type": "code",
      "source": [
        "final_df.to_csv(\"news_with_sentiment.csv\", index=False)"
      ],
      "metadata": {
        "id": "HdcGlpRZBofJ"
      },
      "execution_count": null,
      "outputs": []
    }
  ]
}